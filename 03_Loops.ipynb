{
 "cells": [
  {
   "cell_type": "markdown",
   "id": "43bfbd1c-c62c-4ec3-bacc-d83f494709e7",
   "metadata": {},
   "source": [
    "# For Loops"
   ]
  },
  {
   "cell_type": "code",
   "execution_count": 4,
   "id": "5efd4bff-e2b4-4219-9c3e-2f3bb0f26642",
   "metadata": {},
   "outputs": [
    {
     "name": "stdout",
     "output_type": "stream",
     "text": [
      "0\n",
      "2\n",
      "4\n",
      "6\n",
      "8\n",
      "10\n",
      "12\n",
      "14\n",
      "16\n",
      "18\n",
      "20\n",
      "22\n",
      "24\n",
      "26\n",
      "28\n",
      "30\n",
      "32\n",
      "34\n",
      "36\n",
      "38\n"
     ]
    }
   ],
   "source": [
    "num = 4\n",
    "for i in range (0, 40, 2):\n",
    "    print(i)"
   ]
  },
  {
   "cell_type": "markdown",
   "id": "875c5af1-cb8f-40cd-82e1-a381fe63a030",
   "metadata": {},
   "source": [
    "Table \n"
   ]
  },
  {
   "cell_type": "code",
   "execution_count": 8,
   "id": "b835830f-ff4f-4876-bda9-bafcba8a83db",
   "metadata": {},
   "outputs": [
    {
     "name": "stdout",
     "output_type": "stream",
     "text": [
      "4\n",
      "8\n",
      "12\n",
      "16\n",
      "20\n",
      "24\n",
      "28\n",
      "32\n",
      "36\n",
      "40\n"
     ]
    }
   ],
   "source": [
    "\n",
    "num = 4\n",
    "for i in range (num, num*10 + 1, num):\n",
    "    print(i)"
   ]
  },
  {
   "cell_type": "markdown",
   "id": "c51bb48c-626d-4244-831b-5967518d9a6d",
   "metadata": {},
   "source": [
    "Decending order"
   ]
  },
  {
   "cell_type": "code",
   "execution_count": 12,
   "id": "cb31d250-5796-4abf-af87-5c39c0581ed8",
   "metadata": {},
   "outputs": [
    {
     "name": "stdout",
     "output_type": "stream",
     "text": [
      "10\n",
      "9\n",
      "8\n",
      "7\n",
      "6\n",
      "5\n",
      "4\n",
      "3\n",
      "2\n",
      "1\n"
     ]
    }
   ],
   "source": [
    "num = 4\n",
    "for i in range (10, 0, -1):\n",
    "    print(i)"
   ]
  },
  {
   "cell_type": "code",
   "execution_count": null,
   "id": "94a781b5-b4bf-48a0-b6c1-e9611a2779f8",
   "metadata": {},
   "outputs": [],
   "source": [
    "# Print 100 even numbers\n",
    "# Print 100 odd numbers"
   ]
  },
  {
   "cell_type": "markdown",
   "id": "3c93510d-8b72-4af1-a67f-229bceba3aa3",
   "metadata": {},
   "source": [
    "# Print 100 even numbers"
   ]
  },
  {
   "cell_type": "code",
   "execution_count": 17,
   "id": "3ea206b1-c45f-4855-8514-8c3a4994c26f",
   "metadata": {},
   "outputs": [
    {
     "name": "stdout",
     "output_type": "stream",
     "text": [
      "2\n",
      "4\n",
      "6\n",
      "8\n",
      "10\n",
      "12\n",
      "14\n",
      "16\n",
      "18\n",
      "20\n",
      "22\n",
      "24\n",
      "26\n",
      "28\n",
      "30\n",
      "32\n",
      "34\n",
      "36\n",
      "38\n",
      "40\n",
      "42\n",
      "44\n",
      "46\n",
      "48\n",
      "50\n",
      "52\n",
      "54\n",
      "56\n",
      "58\n",
      "60\n",
      "62\n",
      "64\n",
      "66\n",
      "68\n",
      "70\n",
      "72\n",
      "74\n",
      "76\n",
      "78\n",
      "80\n",
      "82\n",
      "84\n",
      "86\n",
      "88\n",
      "90\n",
      "92\n",
      "94\n",
      "96\n",
      "98\n",
      "100\n"
     ]
    }
   ],
   "source": [
    "num = 0\n",
    "for i in range (2,101,2):\n",
    "    print(i)"
   ]
  },
  {
   "cell_type": "markdown",
   "id": "a5d78a54-4bc4-49fa-aa1d-c6cc66933281",
   "metadata": {},
   "source": [
    "# Print 100 odd numbers"
   ]
  },
  {
   "cell_type": "code",
   "execution_count": 20,
   "id": "3b4f8052-0837-4435-853a-837c2d41ff9e",
   "metadata": {},
   "outputs": [
    {
     "name": "stdout",
     "output_type": "stream",
     "text": [
      "1\n",
      "3\n",
      "5\n",
      "7\n",
      "9\n",
      "11\n",
      "13\n",
      "15\n",
      "17\n",
      "19\n",
      "21\n",
      "23\n",
      "25\n",
      "27\n",
      "29\n",
      "31\n",
      "33\n",
      "35\n",
      "37\n",
      "39\n",
      "41\n",
      "43\n",
      "45\n",
      "47\n",
      "49\n",
      "51\n",
      "53\n",
      "55\n",
      "57\n",
      "59\n",
      "61\n",
      "63\n",
      "65\n",
      "67\n",
      "69\n",
      "71\n",
      "73\n",
      "75\n",
      "77\n",
      "79\n",
      "81\n",
      "83\n",
      "85\n",
      "87\n",
      "89\n",
      "91\n",
      "93\n",
      "95\n",
      "97\n",
      "99\n"
     ]
    }
   ],
   "source": [
    "num = 0\n",
    "for i in range (1,101,2):\n",
    "    print(i)"
   ]
  },
  {
   "cell_type": "markdown",
   "id": "2b0e1633-a6cb-4adb-804a-98d00485cbde",
   "metadata": {},
   "source": [
    "# Numbers divisible by both 5 and 3\n",
    "\n"
   ]
  },
  {
   "cell_type": "code",
   "execution_count": 66,
   "id": "8e42e41b-1204-4f47-b649-a1e9131277b7",
   "metadata": {},
   "outputs": [
    {
     "name": "stdout",
     "output_type": "stream",
     "text": [
      "- 15 1\n",
      "- 30 2\n",
      "- 45 3\n",
      "- 60 4\n",
      "- 75 5\n",
      "- 90 6\n"
     ]
    }
   ],
   "source": [
    "counter= 0\n",
    "for i in range (1,101):\n",
    "    if i % 3 == 0 and i % 5 == 0:\n",
    "        counter += 1\n",
    "        print ('-', i, counter)       "
   ]
  },
  {
   "cell_type": "markdown",
   "id": "328c60a2-fb95-4d91-a0dc-6f0c8527100a",
   "metadata": {},
   "source": [
    "# First 10 Numbers divisible by 7, 5 and 3"
   ]
  },
  {
   "cell_type": "code",
   "execution_count": 81,
   "id": "1ece0d94-424b-4097-b2dd-47161d6179d7",
   "metadata": {},
   "outputs": [
    {
     "name": "stdout",
     "output_type": "stream",
     "text": [
      "1. 105 is divisible by 3, 5 and 7\n",
      "2. 210 is divisible by 3, 5 and 7\n",
      "3. 315 is divisible by 3, 5 and 7\n",
      "4. 420 is divisible by 3, 5 and 7\n",
      "5. 525 is divisible by 3, 5 and 7\n",
      "6. 630 is divisible by 3, 5 and 7\n",
      "7. 735 is divisible by 3, 5 and 7\n",
      "8. 840 is divisible by 3, 5 and 7\n",
      "9. 945 is divisible by 3, 5 and 7\n",
      "10. 1050 is divisible by 3, 5 and 7\n"
     ]
    }
   ],
   "source": [
    "counter= 0\n",
    "for i in range (1,10001):\n",
    "    if i % 3 == 0 and i % 5 == 0 and i % 7 == 0:\n",
    "        counter+=1\n",
    "        print(f\"{counter}. {i} is divisible by 3, 5 and 7\")\n",
    "        if counter == 10:\n",
    "            break\n"
   ]
  },
  {
   "cell_type": "markdown",
   "id": "c1f54f77-6f2a-4abc-b965-fe66dacda4e5",
   "metadata": {},
   "source": [
    "# Pattern \n"
   ]
  },
  {
   "cell_type": "code",
   "execution_count": 103,
   "id": "5a1bc992-3788-4732-a200-cd6baeba0597",
   "metadata": {},
   "outputs": [
    {
     "name": "stdout",
     "output_type": "stream",
     "text": [
      "**********\n",
      "*        *\n",
      "*        *\n",
      "*        *\n",
      "*        *\n",
      "*        *\n",
      "*        *\n",
      "*        *\n",
      "*        *\n",
      "**********\n"
     ]
    }
   ],
   "source": [
    "#n= int(input('Enter the size: '))\n",
    "n = 10\n",
    "print ('*'*n)\n",
    "for i in range(n-2):\n",
    "    print('*' + ' ' * (n-2)+ '*')\n",
    "\n",
    "print('*'*n)"
   ]
  },
  {
   "cell_type": "markdown",
   "id": "4acb43d7-0812-497d-b6bd-0c1252f1d359",
   "metadata": {},
   "source": [
    "# find first 100 prime numbers"
   ]
  },
  {
   "cell_type": "code",
   "execution_count": 123,
   "id": "8d8ece19-1e13-4f6c-986e-f0e9877db4dc",
   "metadata": {},
   "outputs": [
    {
     "name": "stdout",
     "output_type": "stream",
     "text": [
      "2\n",
      "3\n",
      "5\n",
      "7\n",
      "11\n",
      "13\n",
      "17\n",
      "19\n",
      "23\n",
      "29\n",
      "31\n",
      "37\n",
      "41\n",
      "43\n",
      "47\n",
      "53\n",
      "59\n",
      "61\n",
      "67\n",
      "71\n",
      "73\n",
      "79\n",
      "83\n",
      "89\n",
      "97\n",
      "101\n",
      "103\n",
      "107\n",
      "109\n",
      "113\n",
      "127\n",
      "131\n",
      "137\n",
      "139\n",
      "149\n",
      "151\n",
      "157\n",
      "163\n",
      "167\n",
      "173\n",
      "179\n",
      "181\n",
      "191\n",
      "193\n",
      "197\n",
      "199\n",
      "211\n",
      "223\n",
      "227\n",
      "229\n",
      "233\n",
      "239\n",
      "241\n",
      "251\n",
      "257\n",
      "263\n",
      "269\n",
      "271\n",
      "277\n",
      "281\n",
      "283\n",
      "293\n",
      "307\n",
      "311\n",
      "313\n",
      "317\n",
      "331\n",
      "337\n",
      "347\n",
      "349\n",
      "353\n",
      "359\n",
      "367\n",
      "373\n",
      "379\n",
      "383\n",
      "389\n",
      "397\n",
      "401\n",
      "409\n",
      "419\n",
      "421\n",
      "431\n",
      "433\n",
      "439\n",
      "443\n",
      "449\n",
      "457\n",
      "461\n",
      "463\n",
      "467\n",
      "479\n",
      "487\n",
      "491\n",
      "499\n",
      "503\n",
      "509\n",
      "521\n",
      "523\n",
      "541\n"
     ]
    }
   ],
   "source": [
    "\"\"\"\n",
    "counter = 1\n",
    "for num in range (2,100000):\n",
    "    is_prime = True\n",
    "    for i in range(2,num):\n",
    "        if num % i==0:\n",
    "            is_prime= False\n",
    "            break\n",
    "    if is_prime:\n",
    "        print(num)\n",
    "        counter += 1 \n",
    "        if counter == 100:\n",
    "            break\n",
    "\"\"\"            \n",
    "\n",
    "counter = 0\n",
    "for num in range(2, 100000):  # Start from 2 because 1 is not prime\n",
    "    is_prime = True\n",
    "    for i in range(2, int(num ** 0.5) + 1):  # Optimization: check till √num\n",
    "        if num % i == 0:\n",
    "            is_prime = False\n",
    "            break\n",
    "    if is_prime:\n",
    "        print(num)\n",
    "        counter += 1\n",
    "        if counter == 100:\n",
    "            break \n",
    "            "
   ]
  },
  {
   "cell_type": "code",
   "execution_count": null,
   "id": "84cd5f75-9126-4691-8e2c-73144a77c568",
   "metadata": {},
   "outputs": [],
   "source": []
  }
 ],
 "metadata": {
  "kernelspec": {
   "display_name": "Python [conda env:base] *",
   "language": "python",
   "name": "conda-base-py"
  },
  "language_info": {
   "codemirror_mode": {
    "name": "ipython",
    "version": 3
   },
   "file_extension": ".py",
   "mimetype": "text/x-python",
   "name": "python",
   "nbconvert_exporter": "python",
   "pygments_lexer": "ipython3",
   "version": "3.12.7"
  }
 },
 "nbformat": 4,
 "nbformat_minor": 5
}
