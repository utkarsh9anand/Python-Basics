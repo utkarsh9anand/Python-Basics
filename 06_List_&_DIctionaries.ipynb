{
 "cells": [
  {
   "cell_type": "code",
   "execution_count": 1,
   "id": "4879768f-69c2-495f-acc7-f77af135c606",
   "metadata": {},
   "outputs": [
    {
     "name": "stdout",
     "output_type": "stream",
     "text": [
      "3\n"
     ]
    }
   ],
   "source": [
    "lst = [1, 2, 3, 4 ,5 ,6 ,7 ,8 ,9]\n",
    "print(lst[2])"
   ]
  },
  {
   "cell_type": "markdown",
   "id": "7a10b5aa-7cf6-47ef-be80-7d95e291be54",
   "metadata": {},
   "source": [
    "# 2-D List"
   ]
  },
  {
   "cell_type": "code",
   "execution_count": 13,
   "id": "b18ff72b-8ced-42f3-a75c-e99f2b672d0b",
   "metadata": {},
   "outputs": [
    {
     "name": "stdout",
     "output_type": "stream",
     "text": [
      "2\n"
     ]
    }
   ],
   "source": [
    "lst = [[1, 2, 3], [4 ,5 ,6] ,[7 ,8 ,9]]\n",
    "print(lst[0][1])\n"
   ]
  },
  {
   "cell_type": "code",
   "execution_count": 77,
   "id": "79f40cac-68f9-4a63-bc46-af56495d450c",
   "metadata": {},
   "outputs": [
    {
     "name": "stdout",
     "output_type": "stream",
     "text": [
      "6\n",
      "15\n",
      "34\n"
     ]
    }
   ],
   "source": [
    "lst = [[1, 2, 3], \n",
    "       [4 ,5 ,6],\n",
    "       [7 ,8 ,9,10]]\n",
    "\n",
    "\n",
    "for i in range(len(lst)):\n",
    "    s= 0\n",
    "    for j in range(len(lst[i])):\n",
    "       \n",
    "        s += lst[i][j] \n",
    "    print(s)    \n"
   ]
  },
  {
   "cell_type": "markdown",
   "id": "0349aede-d66b-4e92-a2a7-e9cadeb02d3d",
   "metadata": {},
   "source": [
    "# sum of digonal element"
   ]
  },
  {
   "cell_type": "code",
   "execution_count": 74,
   "id": "d3b0ccb0-5161-4856-b06c-56f6f9e9c853",
   "metadata": {},
   "outputs": [
    {
     "name": "stdout",
     "output_type": "stream",
     "text": [
      "1\n",
      "5\n",
      "9\n",
      "5\n",
      "20\n"
     ]
    }
   ],
   "source": [
    "lst = [[1, 2, 3, 4], \n",
    "       [4 ,5 ,6, 5],\n",
    "       [7 ,8 ,9, 3],\n",
    "       [7 ,4 ,3, 5]]\n",
    "s=0\n",
    "\n",
    "for i in range(len(lst)):\n",
    "    for j  in range (len(lst)):\n",
    "        if i == j:\n",
    "            print(lst[i][j])\n",
    "            s +=lst[i][j]\n",
    "print(s)            \n",
    "       "
   ]
  },
  {
   "cell_type": "markdown",
   "id": "2c729419-7be3-4af5-a0d4-8fb835ee48ac",
   "metadata": {},
   "source": [
    "# sum of digonal right to left"
   ]
  },
  {
   "cell_type": "code",
   "execution_count": 80,
   "id": "b692ba85-5657-461c-af8b-a81d3edee0d6",
   "metadata": {},
   "outputs": [
    {
     "name": "stdout",
     "output_type": "stream",
     "text": [
      "4\n",
      "6\n",
      "8\n",
      "7\n",
      "25\n"
     ]
    }
   ],
   "source": [
    "lst = [[1, 2, 3, 4], \n",
    "       [4 ,5 ,6, 5],\n",
    "       [7 ,8 ,9, 3],\n",
    "       [7 ,4 ,3, 5]]\n",
    "s=0\n",
    "\n",
    "for i in range(len(lst)):\n",
    "    for j  in range (len(lst)):\n",
    "        if i + j ==len(lst)-1:\n",
    "            print(lst[i][j])\n",
    "            s +=lst[i][j]\n",
    "print(s)            "
   ]
  },
  {
   "cell_type": "code",
   "execution_count": 5,
   "id": "13daf621-9a1e-4d23-9d5c-ff208b602da9",
   "metadata": {},
   "outputs": [
    {
     "name": "stdout",
     "output_type": "stream",
     "text": [
      "Failed in subject 3 with marks 32\n"
     ]
    }
   ],
   "source": [
    "marks = [45, 67, 89, 32, 76]\n",
    "for i in range(len(marks)):\n",
    "    if marks[i] < 40:\n",
    "        print(\"Failed in subject\", i, \"with marks\", marks[i])"
   ]
  },
  {
   "cell_type": "code",
   "execution_count": 11,
   "id": "dde4db6e-665c-4982-98bc-5f7cc5af7a13",
   "metadata": {},
   "outputs": [
    {
     "name": "stdout",
     "output_type": "stream",
     "text": [
      "1\n",
      "5\n",
      "9\n",
      "15\n"
     ]
    }
   ],
   "source": [
    "matrix = [\n",
    "    [1, 2, 3],   # Row 0\n",
    "    [4, 5, 6],   # Row 1\n",
    "    [7, 8, 9]    # Row 2\n",
    "]\n",
    "s = 0\n",
    "for i in range(len(matrix)):\n",
    "    for j in range(len(matrix[i])):\n",
    "        if i == j:\n",
    "            print(matrix[i][j])\n",
    "            s += matrix[i][j]\n",
    "        \n",
    "print(s)"
   ]
  },
  {
   "cell_type": "code",
   "execution_count": 13,
   "id": "58094b02-a885-40cd-8704-b340f483e5d1",
   "metadata": {},
   "outputs": [
    {
     "name": "stdout",
     "output_type": "stream",
     "text": [
      "3\n",
      "6\n",
      "9\n"
     ]
    }
   ],
   "source": [
    "# print the last column\n",
    "\n",
    "matrix = [\n",
    "    [1, 2, 3],   # Row 0   [0][2]\n",
    "    [4, 5, 6],   # Row 1   [1][2]\n",
    "    [7, 8, 9]    # Row 2   [2][2] \n",
    "]\n",
    "for i in range(len(matrix)):  \n",
    "    print(matrix[i][2])\n",
    "            "
   ]
  },
  {
   "cell_type": "code",
   "execution_count": 15,
   "id": "9c2d8160-149a-4a8c-8d3e-a8d2a2092c70",
   "metadata": {},
   "outputs": [
    {
     "name": "stdout",
     "output_type": "stream",
     "text": [
      "10\n",
      "40\n",
      "70\n"
     ]
    }
   ],
   "source": [
    "#print first column only\n",
    "matrix = [\n",
    "    [10, 20, 30],\n",
    "    [40, 50, 60],\n",
    "    [70, 80, 90]\n",
    "]\n",
    "for i in range(len(matrix)):\n",
    "    print(matrix[i][0])\n"
   ]
  },
  {
   "cell_type": "code",
   "execution_count": 17,
   "id": "a8904a9e-9780-4a82-ba0f-15e6c3390a44",
   "metadata": {},
   "outputs": [
    {
     "name": "stdout",
     "output_type": "stream",
     "text": [
      "20\n",
      "50\n",
      "80\n"
     ]
    }
   ],
   "source": [
    "#Print the middle column only\n",
    "matrix = [\n",
    "    [10, 20, 30],\n",
    "    [40, 50, 60],\n",
    "    [70, 80, 90]\n",
    "]\n",
    "for i in range(len(matrix)):\n",
    "    print(matrix[i][1])"
   ]
  },
  {
   "cell_type": "code",
   "execution_count": 25,
   "id": "e0cf6930-6ebd-4285-bd85-63ef2a116e2d",
   "metadata": {},
   "outputs": [
    {
     "name": "stdout",
     "output_type": "stream",
     "text": [
      "30\n",
      "60\n",
      "90\n",
      "180\n"
     ]
    }
   ],
   "source": [
    "matrix = [\n",
    "    [10, 20, 30],\n",
    "    [40, 50, 60],\n",
    "    [70, 80, 90]\n",
    "]\n",
    "s=0\n",
    "for i in range(len(matrix)):\n",
    "    print(matrix[i][2])\n",
    "    s+=matrix[i][2]\n",
    "print(s)    \n",
    "\n"
   ]
  },
  {
   "cell_type": "code",
   "execution_count": 31,
   "id": "9c7a373d-6dbb-45dc-8787-3c77ca6b9624",
   "metadata": {},
   "outputs": [
    {
     "name": "stdout",
     "output_type": "stream",
     "text": [
      "1\n",
      "2\n",
      "3\n"
     ]
    }
   ],
   "source": [
    "\n",
    "#Write a loop to print only the elements in the first row, one by one.\n",
    "lst = [\n",
    "    [1, 2, 3],\n",
    "    [4, 5, 6],\n",
    "    [7, 8, 9]\n",
    "]\n",
    "\n",
    "\n",
    "for j in range(len(lst[0])):\n",
    "    print(lst[0][j])"
   ]
  },
  {
   "cell_type": "markdown",
   "id": "d9379fd2-568d-4d78-9d28-a86f2d74fe16",
   "metadata": {},
   "source": [
    "# print the sum of both the digonals"
   ]
  },
  {
   "cell_type": "code",
   "execution_count": 55,
   "id": "774bc538-e9e7-4721-b824-0f2320e9cf5c",
   "metadata": {},
   "outputs": [
    {
     "name": "stdout",
     "output_type": "stream",
     "text": [
      "20\n",
      "25\n",
      "45\n"
     ]
    }
   ],
   "source": [
    "lst = [[1, 2, 3, 4], #[0][3]\n",
    "       [4 ,5 ,6, 5], #[1][2]\n",
    "       [7 ,8 ,9, 3], #[2][1]\n",
    "       [7 ,4 ,3, 5]] #[3][0]\n",
    "\n",
    "s1= 0\n",
    "s2= 0\n",
    "for i in range(len(lst)):\n",
    "    for j  in range (len(lst)):\n",
    "        if i == j:\n",
    "            s1 +=lst[i][j]\n",
    "        if i + j ==len(lst)-1:\n",
    "             s2 +=lst[i][j]    \n",
    "print(s1)\n",
    "         \n",
    "print(s2) \n",
    "print(s1+s2)\n",
    "            "
   ]
  },
  {
   "cell_type": "markdown",
   "id": "957fbcd1-691c-4917-afe0-2905d2c903fc",
   "metadata": {},
   "source": [
    "# Update values in list"
   ]
  },
  {
   "cell_type": "code",
   "execution_count": 19,
   "id": "1a9da36b-d874-4c9d-8207-53e11c48b06d",
   "metadata": {},
   "outputs": [
    {
     "name": "stdout",
     "output_type": "stream",
     "text": [
      "[1, 2, 3, 4, 5, 6]\n"
     ]
    }
   ],
   "source": [
    "lst= [1,23,3,4,5,6]\n",
    "lst[1]= 2\n",
    "print(lst)"
   ]
  },
  {
   "cell_type": "markdown",
   "id": "045e866d-7ad7-4014-90d7-5990f70a0dfe",
   "metadata": {},
   "source": [
    "# Dictionary"
   ]
  },
  {
   "cell_type": "code",
   "execution_count": 16,
   "id": "160846b6-c5ff-4bbe-b56f-106fe719e922",
   "metadata": {},
   "outputs": [
    {
     "name": "stdout",
     "output_type": "stream",
     "text": [
      "{1: 'Utkarsh', 2: 'Manish', 3: 'Rajan', 4: 'Khushi'}\n",
      "dict_keys([1, 2, 3, 4])\n",
      "dict_values(['Utkarsh', 'Manish', 'Rajan', 'Khushi'])\n"
     ]
    }
   ],
   "source": [
    "dct = {1:'Utkarsh', 2:'Manish', 3:'Rajan', 4:'Khushi'}\n",
    "\n",
    "print(dct)\n",
    "\n",
    "print(dct.keys())\n",
    "print(dct.values())\n",
    "\n"
   ]
  },
  {
   "cell_type": "code",
   "execution_count": 15,
   "id": "94f1721a-53f9-4221-92c3-c0bf590bdd9c",
   "metadata": {},
   "outputs": [
    {
     "name": "stdout",
     "output_type": "stream",
     "text": [
      "Utkarsh\n",
      "51\n"
     ]
    }
   ],
   "source": [
    "dct = {11602259:{'name':'Utkarsh','marks':{'hindi': 51, 'english': 54}},\n",
    "       11602260:{'name':'Khushi'},\n",
    "       11602261:{'name':'Rajan'},\n",
    "       11602262:{'name':'Manish'}}\n",
    "\n",
    "# print(dct)\n",
    "\n",
    "# print(dct.keys())\n",
    "# print(dct.values())\n",
    "\n",
    "print (dct[11602259]['name'])\n",
    "print (dct[11602259]['marks']['hindi'])\n"
   ]
  },
  {
   "cell_type": "code",
   "execution_count": 44,
   "id": "ed8ec58a-e234-4b60-b9f5-348b771ff640",
   "metadata": {},
   "outputs": [
    {
     "name": "stdout",
     "output_type": "stream",
     "text": [
      "{'P': 1, 'B': 2, 'C': 3}\n"
     ]
    }
   ],
   "source": [
    "dct = {'P': 1, 'B':2, 'C':3}\n",
    "print(dct)\n"
   ]
  },
  {
   "cell_type": "code",
   "execution_count": 26,
   "id": "16b8fc82-1714-4f0e-84d9-0a4ddc374a3e",
   "metadata": {},
   "outputs": [
    {
     "name": "stdout",
     "output_type": "stream",
     "text": [
      "{'B': 2, 'C': 3}\n"
     ]
    }
   ],
   "source": [
    "# Delete  Dictionary\n",
    "dct = {'A': 1, 'B':2, 'C':3}\n",
    "del dct['A']\n",
    "\n",
    "print(dct)\n",
    "\n"
   ]
  },
  {
   "cell_type": "code",
   "execution_count": 28,
   "id": "6b4972d2-35af-473c-93af-3ed0ecb8debb",
   "metadata": {},
   "outputs": [
    {
     "name": "stdout",
     "output_type": "stream",
     "text": [
      "{'A': 9, 'B': 2, 'C': 3}\n"
     ]
    }
   ],
   "source": [
    "# Update Value\n",
    "dct = {'A': 1, 'B':2, 'C':3}\n",
    "dct['A'] = 9\n",
    "\n",
    "print(dct)\n"
   ]
  },
  {
   "cell_type": "code",
   "execution_count": 42,
   "id": "dd99ff85-44e2-4f93-b315-3190603a189c",
   "metadata": {},
   "outputs": [
    {
     "name": "stdout",
     "output_type": "stream",
     "text": [
      "{'B': 2, 'C': 3, 'D': 1}\n"
     ]
    }
   ],
   "source": [
    "# how to change the key  'A': 1 ------> 'D': 1\n",
    "dct = {'A': 1, 'B':2, 'C':3}\n",
    "dct['D'] = dct['A']\n",
    "del dct['A']\n",
    "print(dct)\n"
   ]
  },
  {
   "cell_type": "code",
   "execution_count": 64,
   "id": "fbae0653-f262-4ec9-b4fc-b4ba8eb3ebbc",
   "metadata": {},
   "outputs": [
    {
     "name": "stdout",
     "output_type": "stream",
     "text": [
      "Reg_No :  5001\n",
      "Name   :  Utkarsh Anand\n",
      "Age    :  17\n",
      "********************\n",
      "\n",
      "Reg_No :  5002\n",
      "Name   :  Khushi Agarwal\n",
      "Age    :  17\n",
      "********************\n",
      "\n",
      "Reg_No :  5003\n",
      "Name   :  Rajan Mehra\n",
      "Age    :  18\n",
      "********************\n",
      "\n",
      "Reg_No :  5004\n",
      "Name   :  Manish Yadav\n",
      "Age    :  17\n",
      "********************\n",
      "\n",
      "Reg_No :  5005\n",
      "Name   :  Nikita Verma\n",
      "Age    :  18\n",
      "********************\n",
      "\n",
      "Reg_No :  5006\n",
      "Name   :  Sneha Jain\n",
      "Age    :  17\n",
      "********************\n",
      "\n",
      "Reg_No :  5007\n",
      "Name   :  Anuj Singh\n",
      "Age    :  17\n",
      "********************\n",
      "\n",
      "Reg_No :  5008\n",
      "Name   :  Priya Das\n",
      "Age    :  18\n",
      "********************\n",
      "\n",
      "Reg_No :  5009\n",
      "Name   :  Aman Gupta\n",
      "Age    :  17\n",
      "********************\n",
      "\n",
      "Reg_No :  5010\n",
      "Name   :  Yash Srivastava\n",
      "Age    :  18\n",
      "********************\n",
      "\n"
     ]
    }
   ],
   "source": [
    "students = {\n",
    "    \"5001\": {\n",
    "        \"Name\": \"Utkarsh Anand\",\n",
    "        \"Age\": 17,\n",
    "        \"Class\": 12,\n",
    "        \"Subjects\": {\n",
    "            \"Mathematics\": 95,\n",
    "            \"Physics\": 91,\n",
    "            \"Chemistry\": 89,\n",
    "            \"English\": 88,\n",
    "            \"Computer Science\": 94\n",
    "        }\n",
    "    },\n",
    "    \"5002\": {\n",
    "        \"Name\": \"Khushi Agarwal\",\n",
    "        \"Age\": 17,\n",
    "        \"Class\": 12,\n",
    "        \"Subjects\": {\n",
    "            \"Mathematics\": 87,\n",
    "            \"Physics\": 90,\n",
    "            \"Chemistry\": 85,\n",
    "            \"English\": 86,\n",
    "            \"Computer Science\": 89\n",
    "        }\n",
    "    },\n",
    "    \"5003\": {\n",
    "        \"Name\": \"Rajan Mehra\",\n",
    "        \"Age\": 18,\n",
    "        \"Class\": 12,\n",
    "        \"Subjects\": {\n",
    "            \"Mathematics\": 78,\n",
    "            \"Physics\": 75,\n",
    "            \"Chemistry\": 72,\n",
    "            \"English\": 80,\n",
    "            \"Computer Science\": 76\n",
    "        }\n",
    "    },\n",
    "    \"5004\": {\n",
    "        \"Name\": \"Manish Yadav\",\n",
    "        \"Age\": 17,\n",
    "        \"Class\": 12,\n",
    "        \"Subjects\": {\n",
    "            \"Mathematics\": 92,\n",
    "            \"Physics\": 89,\n",
    "            \"Chemistry\": 90,\n",
    "            \"English\": 87,\n",
    "            \"Computer Science\": 93\n",
    "        }\n",
    "    },\n",
    "    \"5005\": {\n",
    "        \"Name\": \"Nikita Verma\",\n",
    "        \"Age\": 18,\n",
    "        \"Class\": 12,\n",
    "        \"Subjects\": {\n",
    "            \"Mathematics\": 85,\n",
    "            \"Physics\": 83,\n",
    "            \"Chemistry\": 84,\n",
    "            \"English\": 82,\n",
    "            \"Computer Science\": 88\n",
    "        }\n",
    "    },\n",
    "    \"5006\": {\n",
    "        \"Name\": \"Sneha Jain\",\n",
    "        \"Age\": 17,\n",
    "        \"Class\": 12,\n",
    "        \"Subjects\": {\n",
    "            \"Mathematics\": 90,\n",
    "            \"Physics\": 93,\n",
    "            \"Chemistry\": 88,\n",
    "            \"English\": 85,\n",
    "            \"Computer Science\": 92\n",
    "        }\n",
    "    },\n",
    "    \"5007\": {\n",
    "        \"Name\": \"Anuj Singh\",\n",
    "        \"Age\": 17,\n",
    "        \"Class\": 12,\n",
    "        \"Subjects\": {\n",
    "            \"Mathematics\": 72,\n",
    "            \"Physics\": 70,\n",
    "            \"Chemistry\": 69,\n",
    "            \"English\": 74,\n",
    "            \"Computer Science\": 71\n",
    "        }\n",
    "    },\n",
    "    \"5008\": {\n",
    "        \"Name\": \"Priya Das\",\n",
    "        \"Age\": 18,\n",
    "        \"Class\": 12,\n",
    "        \"Subjects\": {\n",
    "            \"Mathematics\": 81,\n",
    "            \"Physics\": 79,\n",
    "            \"Chemistry\": 80,\n",
    "            \"English\": 83,\n",
    "            \"Computer Science\": 85\n",
    "        }\n",
    "    },\n",
    "    \"5009\": {\n",
    "        \"Name\": \"Aman Gupta\",\n",
    "        \"Age\": 17,\n",
    "        \"Class\": 12,\n",
    "        \"Subjects\": {\n",
    "            \"Mathematics\": 66,\n",
    "            \"Physics\": 63,\n",
    "            \"Chemistry\": 61,\n",
    "            \"English\": 68,\n",
    "            \"Computer Science\": 65\n",
    "        }\n",
    "    },\n",
    "    \"5010\": {\n",
    "        \"Name\": \"Yash Srivastava\",\n",
    "        \"Age\": 18,\n",
    "        \"Class\": 12,\n",
    "        \"Subjects\": {\n",
    "            \"Mathematics\": 88,\n",
    "            \"Physics\": 85,\n",
    "            \"Chemistry\": 84,\n",
    "            \"English\": 87,\n",
    "            \"Computer Science\": 86\n",
    "        }\n",
    "    }\n",
    "}\n",
    "#print(students)\n",
    "#print(students.keys())\n",
    "\n",
    "for reg_no in students.keys():\n",
    "    print('Reg_No : ', reg_no)\n",
    "    print('Name   : ',students[reg_no]['Name'])\n",
    "    print('Age    : ',students[reg_no]['Age'])\n",
    "    \n",
    "    print('*'*20)\n",
    "    print('')\n",
    "\n",
    "    "
   ]
  },
  {
   "cell_type": "code",
   "execution_count": 126,
   "id": "d1b7701c-32fe-4938-ab70-e3d5f1a09863",
   "metadata": {},
   "outputs": [
    {
     "name": "stdout",
     "output_type": "stream",
     "text": [
      "Reg_No   :  5001\n",
      "Name     :  Utkarsh Anand\n",
      "Age      :  17\n",
      "Total    :  457\n",
      "Average  :  91.4\n",
      "********************\n",
      "\n",
      "Reg_No   :  5002\n",
      "Name     :  Khushi Agarwal\n",
      "Age      :  17\n",
      "Total    :  437\n",
      "Average  :  87.4\n",
      "********************\n",
      "\n",
      "Reg_No   :  5003\n",
      "Name     :  Rajan Mehra\n",
      "Age      :  18\n",
      "Total    :  381\n",
      "Average  :  76.2\n",
      "********************\n",
      "\n",
      "Reg_No   :  5004\n",
      "Name     :  Manish Yadav\n",
      "Age      :  17\n",
      "Total    :  451\n",
      "Average  :  90.2\n",
      "********************\n",
      "\n",
      "Reg_No   :  5005\n",
      "Name     :  Nikita Verma\n",
      "Age      :  18\n",
      "Total    :  422\n",
      "Average  :  84.4\n",
      "********************\n",
      "\n",
      "Reg_No   :  5006\n",
      "Name     :  Sneha Jain\n",
      "Age      :  17\n",
      "Total    :  448\n",
      "Average  :  89.6\n",
      "********************\n",
      "\n",
      "Reg_No   :  5007\n",
      "Name     :  Anuj Singh\n",
      "Age      :  17\n",
      "Total    :  356\n",
      "Average  :  71.2\n",
      "********************\n",
      "\n",
      "Reg_No   :  5008\n",
      "Name     :  Priya Das\n",
      "Age      :  18\n",
      "Total    :  408\n",
      "Average  :  81.6\n",
      "********************\n",
      "\n",
      "Reg_No   :  5009\n",
      "Name     :  Aman Gupta\n",
      "Age      :  17\n",
      "Total    :  323\n",
      "Average  :  64.6\n",
      "********************\n",
      "\n",
      "Reg_No   :  5010\n",
      "Name     :  Yash Srivastava\n",
      "Age      :  18\n",
      "Total    :  430\n",
      "Average  :  86.0\n",
      "********************\n",
      "\n"
     ]
    }
   ],
   "source": [
    "for reg_no in students.keys():\n",
    "    print('Reg_No   : ', reg_no)\n",
    "    print('Name     : ',students[reg_no]['Name'])\n",
    "    print('Age      : ',students[reg_no]['Age'])\n",
    "    print('Total    : ',students[reg_no]['total_marks'])\n",
    "    print('Average  : ',students[reg_no]['average_marks'])\n",
    "\n",
    "    total_marks = sum(students[reg_no]['Subjects'].values())\n",
    "    average_marks=  sum(students[reg_no]['Subjects'].values()) / len(students[reg_no]['Subjects'].values())\n",
    "\n",
    "    students[reg_no]['total_marks'] = total_marks\n",
    "    students[reg_no]['average_marks'] = average_marks\n",
    "    print('*'*20)\n",
    "    print('')\n"
   ]
  },
  {
   "cell_type": "code",
   "execution_count": null,
   "id": "f284287f-70f3-48ce-a1f1-e8c03e0adfdb",
   "metadata": {},
   "outputs": [],
   "source": []
  },
  {
   "cell_type": "code",
   "execution_count": null,
   "id": "f8949963-b8c6-43a0-8695-1e5f7c434f66",
   "metadata": {},
   "outputs": [],
   "source": []
  }
 ],
 "metadata": {
  "kernelspec": {
   "display_name": "Python [conda env:base] *",
   "language": "python",
   "name": "conda-base-py"
  },
  "language_info": {
   "codemirror_mode": {
    "name": "ipython",
    "version": 3
   },
   "file_extension": ".py",
   "mimetype": "text/x-python",
   "name": "python",
   "nbconvert_exporter": "python",
   "pygments_lexer": "ipython3",
   "version": "3.12.7"
  }
 },
 "nbformat": 4,
 "nbformat_minor": 5
}
